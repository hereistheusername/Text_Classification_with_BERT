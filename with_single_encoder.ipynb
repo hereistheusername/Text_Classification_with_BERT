{
 "cells": [
  {
   "cell_type": "markdown",
   "source": [
    "# Aim\n",
    "In this notebook, I'll use a TransformerEncoderLayer to perform text classification task. For simplicity, I'll directly use the pre-trained tokenizer since this doesn't affect the classification very much."
   ],
   "metadata": {
    "collapsed": false
   }
  },
  {
   "cell_type": "code",
   "execution_count": 17,
   "outputs": [],
   "source": [
    "import torch\n",
    "from torch import nn, Tensor\n",
    "from torch.nn.modules import TransformerEncoderLayer, TransformerEncoder\n",
    "from torch.nn.utils.rnn import pad_sequence\n",
    "import torch.nn.functional as F\n",
    "import evaluate\n",
    "import numpy as np\n",
    "from datasets import load_dataset\n",
    "from transformers import BertTokenizer\n",
    "import time\n",
    "import math\n",
    "from tempfile import TemporaryDirectory\n",
    "import os"
   ],
   "metadata": {
    "collapsed": false
   }
  },
  {
   "cell_type": "markdown",
   "source": [
    "# Load the dataset"
   ],
   "metadata": {
    "collapsed": false
   }
  },
  {
   "cell_type": "code",
   "execution_count": 18,
   "outputs": [
    {
     "name": "stderr",
     "output_type": "stream",
     "text": [
      "Found cached dataset emotion (/Users/xinglanl/.cache/huggingface/datasets/dair-ai___emotion/split/1.0.0/cca5efe2dfeb58c1d098e0f9eeb200e9927d889b5a03c67097275dfb5fe463bd)\n",
      "Found cached dataset emotion (/Users/xinglanl/.cache/huggingface/datasets/dair-ai___emotion/split/1.0.0/cca5efe2dfeb58c1d098e0f9eeb200e9927d889b5a03c67097275dfb5fe463bd)\n",
      "Found cached dataset emotion (/Users/xinglanl/.cache/huggingface/datasets/dair-ai___emotion/split/1.0.0/cca5efe2dfeb58c1d098e0f9eeb200e9927d889b5a03c67097275dfb5fe463bd)\n"
     ]
    },
    {
     "name": "stdout",
     "output_type": "stream",
     "text": [
      "size of train: 16000, validation: 2000, test: 2000\n"
     ]
    }
   ],
   "source": [
    "train = load_dataset('dair-ai/emotion', 'split', split='train')\n",
    "valid = load_dataset('dair-ai/emotion', 'split', split='validation')\n",
    "test = load_dataset('dair-ai/emotion', 'split', split='test')\n",
    "print('size of train: {}, validation: {}, test: {}'.format(len(train), len(valid), len(test)))"
   ],
   "metadata": {
    "collapsed": false
   }
  },
  {
   "cell_type": "markdown",
   "source": [
    "# Pre-process data with pre-trained model"
   ],
   "metadata": {
    "collapsed": false
   }
  },
  {
   "cell_type": "code",
   "execution_count": 19,
   "outputs": [
    {
     "data": {
      "text/plain": "{'text': 'i didnt feel humiliated', 'label': 0}"
     },
     "execution_count": 19,
     "metadata": {},
     "output_type": "execute_result"
    }
   ],
   "source": [
    "train[0]"
   ],
   "metadata": {
    "collapsed": false
   }
  },
  {
   "cell_type": "code",
   "execution_count": 20,
   "outputs": [],
   "source": [
    "tokenizer = BertTokenizer.from_pretrained('bert-base-uncased')"
   ],
   "metadata": {
    "collapsed": false
   }
  },
  {
   "cell_type": "code",
   "execution_count": 21,
   "outputs": [
    {
     "name": "stderr",
     "output_type": "stream",
     "text": [
      "Loading cached processed dataset at /Users/xinglanl/.cache/huggingface/datasets/dair-ai___emotion/split/1.0.0/cca5efe2dfeb58c1d098e0f9eeb200e9927d889b5a03c67097275dfb5fe463bd/cache-d72e93b3ba7a531b.arrow\n",
      "Loading cached processed dataset at /Users/xinglanl/.cache/huggingface/datasets/dair-ai___emotion/split/1.0.0/cca5efe2dfeb58c1d098e0f9eeb200e9927d889b5a03c67097275dfb5fe463bd/cache-495872946a954a68.arrow\n",
      "Loading cached processed dataset at /Users/xinglanl/.cache/huggingface/datasets/dair-ai___emotion/split/1.0.0/cca5efe2dfeb58c1d098e0f9eeb200e9927d889b5a03c67097275dfb5fe463bd/cache-f3c67139a7b42342.arrow\n"
     ]
    }
   ],
   "source": [
    "def tokenizing(record):\n",
    "    return tokenizer(record['text'], truncation=True, max_length=300)\n",
    "\n",
    "train_tokenized = train.map(tokenizing, batched=True)\n",
    "valid_tokenized = valid.map(tokenizing, batched=True)\n",
    "test_tokenized = test.map(tokenizing, batched=True)"
   ],
   "metadata": {
    "collapsed": false
   }
  },
  {
   "cell_type": "code",
   "execution_count": 22,
   "outputs": [
    {
     "name": "stdout",
     "output_type": "stream",
     "text": [
      "[0, 0]\n"
     ]
    },
    {
     "data": {
      "text/plain": "[tensor([1., 0., 0., 0., 0., 0., 0.]), tensor([1., 0., 0., 0., 0., 0., 0.])]"
     },
     "execution_count": 22,
     "metadata": {},
     "output_type": "execute_result"
    }
   ],
   "source": [
    "def func(l):\n",
    "    t = torch.Tensor(7)\n",
    "    t[l] = 1\n",
    "    return t\n",
    "print(train_tokenized['label'][:2])\n",
    "[func(l) for l in train_tokenized['label'][:2]]"
   ],
   "metadata": {
    "collapsed": false
   }
  },
  {
   "cell_type": "code",
   "execution_count": 23,
   "outputs": [
    {
     "data": {
      "text/plain": "{'text': 'i didnt feel humiliated',\n 'label': 0,\n 'input_ids': [101, 1045, 2134, 2102, 2514, 26608, 102],\n 'token_type_ids': [0, 0, 0, 0, 0, 0, 0],\n 'attention_mask': [1, 1, 1, 1, 1, 1, 1]}"
     },
     "execution_count": 23,
     "metadata": {},
     "output_type": "execute_result"
    }
   ],
   "source": [
    "train_tokenized[0]"
   ],
   "metadata": {
    "collapsed": false
   }
  },
  {
   "cell_type": "code",
   "execution_count": 24,
   "outputs": [],
   "source": [
    "id2label = {\n",
    "    0: 'sadness',\n",
    "    1: 'joy',\n",
    "    2: 'love',\n",
    "    3: 'anger',\n",
    "    4: 'fear',\n",
    "    5: 'surprise'\n",
    "}\n",
    "label2id = {v: k for k, v in id2label.items()}"
   ],
   "metadata": {
    "collapsed": false
   }
  },
  {
   "cell_type": "markdown",
   "source": [
    "# Define metrics"
   ],
   "metadata": {
    "collapsed": false
   }
  },
  {
   "cell_type": "code",
   "execution_count": 25,
   "outputs": [],
   "source": [
    "accuracy = evaluate.load('accuracy')\n",
    "def metrics(pred):\n",
    "    predictions, labels = pred\n",
    "    predictions = np.argmax(predictions, axis=1)\n",
    "    return accuracy.compute(predictions=predictions, references=labels)"
   ],
   "metadata": {
    "collapsed": false
   }
  },
  {
   "cell_type": "markdown",
   "source": [
    "# Define model"
   ],
   "metadata": {
    "collapsed": false
   }
  },
  {
   "cell_type": "code",
   "execution_count": 26,
   "outputs": [],
   "source": [
    "class TransformerModel(nn.Module):\n",
    "\n",
    "    def __init__(self, d_model: int, nhead: int, d_hid: int, nlayers: int, out_features: int,\n",
    "                 d_between: int = 128, dropout: float = 0.5):\n",
    "        super().__init__()\n",
    "        self.model_type = 'Transformer text classificator'\n",
    "        encoder_layers = TransformerEncoderLayer(d_model, nhead, d_hid, dropout)\n",
    "        self.transformer_encoder = TransformerEncoder(encoder_layers, nlayers)\n",
    "        self.linear1 = nn.modules.Linear(d_model, d_between)\n",
    "        self.output = nn.modules.Linear(d_between, out_features)\n",
    "\n",
    "    def forward(self, src: Tensor, mask: Tensor) -> Tensor:\n",
    "        x = self.transformer_encoder(src, mask=mask)\n",
    "        x = F.relu(self.linear1(x))\n",
    "        output = self.output(x)\n",
    "        return output"
   ],
   "metadata": {
    "collapsed": false
   }
  },
  {
   "cell_type": "markdown",
   "source": [
    "# training arguments"
   ],
   "metadata": {
    "collapsed": false
   }
  },
  {
   "cell_type": "code",
   "execution_count": 27,
   "outputs": [
    {
     "data": {
      "text/plain": "TransformerModel(\n  (transformer_encoder): TransformerEncoder(\n    (layers): ModuleList(\n      (0-1): 2 x TransformerEncoderLayer(\n        (self_attn): MultiheadAttention(\n          (out_proj): NonDynamicallyQuantizableLinear(in_features=300, out_features=300, bias=True)\n        )\n        (linear1): Linear(in_features=300, out_features=200, bias=True)\n        (dropout): Dropout(p=0.2, inplace=False)\n        (linear2): Linear(in_features=200, out_features=300, bias=True)\n        (norm1): LayerNorm((300,), eps=1e-05, elementwise_affine=True)\n        (norm2): LayerNorm((300,), eps=1e-05, elementwise_affine=True)\n        (dropout1): Dropout(p=0.2, inplace=False)\n        (dropout2): Dropout(p=0.2, inplace=False)\n      )\n    )\n  )\n  (linear1): Linear(in_features=300, out_features=128, bias=True)\n  (output): Linear(in_features=128, out_features=6, bias=True)\n)"
     },
     "execution_count": 27,
     "metadata": {},
     "output_type": "execute_result"
    }
   ],
   "source": [
    "device = torch.device('cuda' if torch.cuda.is_available() else 'cpu')\n",
    "emsize = 300  # embedding dimension\n",
    "d_hid = 200  # dimension of the feedforward network model in nn.TransformerEncoder\n",
    "nlayers = 2  # number of nn.TransformerEncoderLayer in nn.TransformerEncoder\n",
    "out_features = 6 # num of categories\n",
    "nhead = 2  # number of heads in nn.MultiheadAttention\n",
    "dropout = 0.2  # dropout probability\n",
    "BATCH_SIZE = 256\n",
    "model = TransformerModel(emsize, nhead, d_hid, nlayers, out_features, dropout=dropout).to(device)\n",
    "model"
   ],
   "metadata": {
    "collapsed": false
   }
  },
  {
   "cell_type": "code",
   "execution_count": 28,
   "outputs": [],
   "source": [
    "def generate_square_subsequent_mask(sz: int) -> Tensor:\n",
    "    \"\"\"Generates an upper-triangular matrix of -inf, with zeros on diag.\"\"\"\n",
    "    return torch.triu(torch.ones(sz, sz) * float('-inf'), diagonal=1)"
   ],
   "metadata": {
    "collapsed": false
   }
  },
  {
   "cell_type": "code",
   "execution_count": 29,
   "outputs": [
    {
     "data": {
      "text/plain": "(16000, 5)"
     },
     "execution_count": 29,
     "metadata": {},
     "output_type": "execute_result"
    }
   ],
   "source": [
    "train_tokenized.shape"
   ],
   "metadata": {
    "collapsed": false
   }
  },
  {
   "cell_type": "code",
   "execution_count": 30,
   "outputs": [],
   "source": [
    "criterion = nn.CrossEntropyLoss()\n",
    "lr = 5.0  # learning rate\n",
    "optimizer = torch.optim.SGD(model.parameters(), lr=lr)\n",
    "scheduler = torch.optim.lr_scheduler.StepLR(optimizer, 1.0, gamma=0.95)\n",
    "\n",
    "def convert_label(l):\n",
    "    t = torch.zeros(7, dtype=torch.float32)\n",
    "    t[l] = 1\n",
    "    return t\n",
    "\n",
    "def train(model: nn.Module, epoch: int) -> None:\n",
    "    model.train()  # turn on train mode\n",
    "    total_loss = 0.\n",
    "    log_interval = 10\n",
    "    start_time = time.time()\n",
    "    src_mask = generate_square_subsequent_mask(BATCH_SIZE).to(device)\n",
    "\n",
    "    num_batches = len(train_tokenized) // BATCH_SIZE\n",
    "    for batch, i in enumerate(range(0, len(train_tokenized), BATCH_SIZE)):\n",
    "        end = i + BATCH_SIZE\n",
    "        end = end if end < len(train_tokenized) else -1\n",
    "        input_ids = train_tokenized['input_ids'][i: end]\n",
    "        labels = train_tokenized['label'][i: end]\n",
    "\n",
    "        # padding\n",
    "        input_ids = pad_sequence([torch.tensor(l, dtype=torch.float) for l in input_ids], batch_first=True)\n",
    "        m = nn.ZeroPad2d((0, emsize - input_ids.shape[1]))\n",
    "        input_ids = m(input_ids)\n",
    "        labels = torch.tensor(labels).to(device)\n",
    "\n",
    "        seq_len = input_ids.shape[0]\n",
    "        if seq_len != BATCH_SIZE:  # only on last batch\n",
    "            src_mask = src_mask[:seq_len, :seq_len]\n",
    "\n",
    "        input_ids = input_ids.to(device)\n",
    "        output = model(input_ids, mask=src_mask)\n",
    "        loss = criterion(output, labels)\n",
    "\n",
    "        optimizer.zero_grad()\n",
    "        loss.backward()\n",
    "        torch.nn.utils.clip_grad_norm_(model.parameters(), 0.5)\n",
    "        optimizer.step()\n",
    "\n",
    "        total_loss += loss.item()\n",
    "        if batch % log_interval == 0 and batch > 0:\n",
    "            lr = scheduler.get_last_lr()[0]\n",
    "            ms_per_batch = (time.time() - start_time) * 1000 / log_interval\n",
    "            cur_loss = total_loss / log_interval\n",
    "            ppl = math.exp(cur_loss)\n",
    "            print(f'| epoch {epoch:3d} | {batch:5d}/{num_batches:5d} batches | '\n",
    "                  f'lr {lr:02.2f} | ms/batch {ms_per_batch:5.2f} | '\n",
    "                  f'loss {cur_loss:5.2f} | ppl {ppl:8.2f}')\n",
    "            total_loss = 0\n",
    "            start_time = time.time()\n",
    "\n",
    "def evaluate(model: nn.Module, eval_data: Tensor) -> float:\n",
    "    model.eval()  # turn on evaluation mode\n",
    "    total_loss = 0.\n",
    "    src_mask = generate_square_subsequent_mask(BATCH_SIZE).to(device)\n",
    "    with torch.no_grad():\n",
    "        for batch, i in enumerate(range(0, len(eval_data), BATCH_SIZE)):\n",
    "            end = i + BATCH_SIZE\n",
    "            end = end if end < len(eval_data) else -1\n",
    "            input_ids = eval_data['input_ids'][i: end]\n",
    "            labels = eval_data['label'][i: end]\n",
    "\n",
    "            # padding\n",
    "            input_ids = pad_sequence([torch.tensor(l, dtype=torch.float) for l in input_ids], batch_first=True)\n",
    "            m = nn.ZeroPad2d((0, emsize - input_ids.shape[1]))\n",
    "            input_ids = m(input_ids)\n",
    "            labels = torch.tensor(labels).to(device)\n",
    "\n",
    "            seq_len = input_ids.shape[0]\n",
    "            if seq_len != BATCH_SIZE:  # only on last batch\n",
    "                src_mask = src_mask[:seq_len, :seq_len]\n",
    "\n",
    "            input_ids = input_ids.to(device)\n",
    "            output = model(input_ids, mask=src_mask)\n",
    "            total_loss += criterion(output, labels).item()\n",
    "    return total_loss / (len(valid_tokenized) - 1)"
   ],
   "metadata": {
    "collapsed": false
   }
  },
  {
   "cell_type": "markdown",
   "source": [
    "# Train"
   ],
   "metadata": {
    "collapsed": false
   }
  },
  {
   "cell_type": "code",
   "execution_count": 31,
   "outputs": [
    {
     "name": "stdout",
     "output_type": "stream",
     "text": [
      "| epoch   1 |    10/   62 batches | lr 5.00 | ms/batch 168.11 | loss  3.46 | ppl    31.87\n",
      "| epoch   1 |    20/   62 batches | lr 5.00 | ms/batch 144.71 | loss  1.58 | ppl     4.86\n",
      "| epoch   1 |    30/   62 batches | lr 5.00 | ms/batch 142.40 | loss  1.60 | ppl     4.97\n",
      "| epoch   1 |    40/   62 batches | lr 5.00 | ms/batch 142.67 | loss  1.57 | ppl     4.80\n",
      "| epoch   1 |    50/   62 batches | lr 5.00 | ms/batch 143.19 | loss  1.58 | ppl     4.85\n",
      "| epoch   1 |    60/   62 batches | lr 5.00 | ms/batch 144.11 | loss  1.58 | ppl     4.85\n",
      "-----------------------------------------------------------------------------------------\n",
      "| end of epoch   1 | time:  9.37s | valid loss  0.01 | valid ppl     1.01\n",
      "-----------------------------------------------------------------------------------------\n",
      "| epoch   2 |    10/   62 batches | lr 4.75 | ms/batch 163.30 | loss  1.75 | ppl     5.75\n",
      "| epoch   2 |    20/   62 batches | lr 4.75 | ms/batch 141.59 | loss  1.58 | ppl     4.85\n",
      "| epoch   2 |    30/   62 batches | lr 4.75 | ms/batch 142.82 | loss  1.60 | ppl     4.97\n",
      "| epoch   2 |    40/   62 batches | lr 4.75 | ms/batch 144.36 | loss  1.57 | ppl     4.79\n",
      "| epoch   2 |    50/   62 batches | lr 4.75 | ms/batch 142.12 | loss  1.58 | ppl     4.84\n",
      "| epoch   2 |    60/   62 batches | lr 4.75 | ms/batch 143.03 | loss  1.58 | ppl     4.84\n",
      "-----------------------------------------------------------------------------------------\n",
      "| end of epoch   2 | time:  9.27s | valid loss  0.01 | valid ppl     1.01\n",
      "-----------------------------------------------------------------------------------------\n",
      "| epoch   3 |    10/   62 batches | lr 4.51 | ms/batch 158.17 | loss  1.75 | ppl     5.75\n",
      "| epoch   3 |    20/   62 batches | lr 4.51 | ms/batch 142.34 | loss  1.58 | ppl     4.84\n",
      "| epoch   3 |    30/   62 batches | lr 4.51 | ms/batch 143.34 | loss  1.60 | ppl     4.96\n",
      "| epoch   3 |    40/   62 batches | lr 4.51 | ms/batch 142.47 | loss  1.56 | ppl     4.78\n",
      "| epoch   3 |    50/   62 batches | lr 4.51 | ms/batch 144.05 | loss  1.58 | ppl     4.84\n",
      "| epoch   3 |    60/   62 batches | lr 4.51 | ms/batch 142.33 | loss  1.58 | ppl     4.84\n",
      "-----------------------------------------------------------------------------------------\n",
      "| end of epoch   3 | time:  9.22s | valid loss  0.01 | valid ppl     1.01\n",
      "-----------------------------------------------------------------------------------------\n"
     ]
    }
   ],
   "source": [
    "best_val_loss = float('inf')\n",
    "epochs = 3\n",
    "\n",
    "with TemporaryDirectory() as tempdir:\n",
    "    best_model_params_path = os.path.join(tempdir, \"best_model_params.pt\")\n",
    "\n",
    "    for epoch in range(1, epochs + 1):\n",
    "        epoch_start_time = time.time()\n",
    "        train(model, epoch)\n",
    "        val_loss = evaluate(model, valid_tokenized)\n",
    "        val_ppl = math.exp(val_loss)\n",
    "        elapsed = time.time() - epoch_start_time\n",
    "        print('-' * 89)\n",
    "        print(f'| end of epoch {epoch:3d} | time: {elapsed:5.2f}s | '\n",
    "              f'valid loss {val_loss:5.2f} | valid ppl {val_ppl:8.2f}')\n",
    "        print('-' * 89)\n",
    "\n",
    "        if val_loss < best_val_loss:\n",
    "            best_val_loss = val_loss\n",
    "            torch.save(model.state_dict(), best_model_params_path)\n",
    "\n",
    "        scheduler.step()\n",
    "    model.load_state_dict(torch.load(best_model_params_path)) # load best model states"
   ],
   "metadata": {
    "collapsed": false
   }
  },
  {
   "cell_type": "code",
   "execution_count": null,
   "outputs": [],
   "source": [],
   "metadata": {
    "collapsed": false
   }
  }
 ],
 "metadata": {
  "kernelspec": {
   "display_name": "Python 3",
   "language": "python",
   "name": "python3"
  },
  "language_info": {
   "codemirror_mode": {
    "name": "ipython",
    "version": 2
   },
   "file_extension": ".py",
   "mimetype": "text/x-python",
   "name": "python",
   "nbconvert_exporter": "python",
   "pygments_lexer": "ipython2",
   "version": "2.7.6"
  }
 },
 "nbformat": 4,
 "nbformat_minor": 0
}
