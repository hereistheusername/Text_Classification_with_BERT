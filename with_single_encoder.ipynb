{
 "cells": [
  {
   "cell_type": "markdown",
   "source": [
    "# Aim\n",
    "In this notebook, I'll use a TransformerEncoderLayer to perform text classification task. For simplicity, I'll directly use the pre-trained tokenizer since this doesn't affect the classification very much."
   ],
   "metadata": {
    "collapsed": false
   }
  },
  {
   "cell_type": "code",
   "execution_count": null,
   "outputs": [],
   "source": [
    "import torch\n",
    "from torch import nn, Tensor\n",
    "from torch.nn.modules import TransformerEncoderLayer, TransformerEncoder\n",
    "from torch.nn.utils.rnn import pad_sequence\n",
    "import torch.nn.functional as F\n",
    "import evaluate\n",
    "import numpy as np\n",
    "from datasets import load_dataset\n",
    "from transformers import BertTokenizer\n",
    "import time\n",
    "import math\n",
    "from tempfile import TemporaryDirectory\n",
    "import os"
   ],
   "metadata": {
    "collapsed": false
   }
  },
  {
   "cell_type": "markdown",
   "source": [
    "# Load the dataset"
   ],
   "metadata": {
    "collapsed": false
   }
  },
  {
   "cell_type": "code",
   "execution_count": null,
   "outputs": [],
   "source": [
    "train = load_dataset('dair-ai/emotion', 'split', split='train')\n",
    "valid = load_dataset('dair-ai/emotion', 'split', split='validation')\n",
    "test = load_dataset('dair-ai/emotion', 'split', split='test')\n",
    "print('size of train: {}, validation: {}, test: {}'.format(len(train), len(valid), len(test)))"
   ],
   "metadata": {
    "collapsed": false
   }
  },
  {
   "cell_type": "markdown",
   "source": [
    "# Pre-process data with pre-trained model"
   ],
   "metadata": {
    "collapsed": false
   }
  },
  {
   "cell_type": "code",
   "execution_count": null,
   "outputs": [],
   "source": [
    "train[0]"
   ],
   "metadata": {
    "collapsed": false
   }
  },
  {
   "cell_type": "code",
   "execution_count": null,
   "outputs": [],
   "source": [
    "tokenizer = BertTokenizer.from_pretrained('bert-base-uncased')"
   ],
   "metadata": {
    "collapsed": false
   }
  },
  {
   "cell_type": "code",
   "execution_count": null,
   "outputs": [],
   "source": [
    "def tokenizing(record):\n",
    "    return tokenizer(record['text'], truncation=True, max_length=300)\n",
    "\n",
    "train_tokenized = train.map(tokenizing, batched=True)\n",
    "valid_tokenized = valid.map(tokenizing, batched=True)\n",
    "test_tokenized = test.map(tokenizing, batched=True)"
   ],
   "metadata": {
    "collapsed": false
   }
  },
  {
   "cell_type": "code",
   "execution_count": null,
   "outputs": [],
   "source": [
    "def func(l):\n",
    "    t = torch.Tensor(7)\n",
    "    t[l] = 1\n",
    "    return t\n",
    "print(train_tokenized['label'][:2])\n",
    "[func(l) for l in train_tokenized['label'][:2]]"
   ],
   "metadata": {
    "collapsed": false
   }
  },
  {
   "cell_type": "code",
   "execution_count": null,
   "outputs": [],
   "source": [
    "train_tokenized[0]"
   ],
   "metadata": {
    "collapsed": false
   }
  },
  {
   "cell_type": "code",
   "execution_count": null,
   "outputs": [],
   "source": [
    "id2label = {\n",
    "    0: 'sadness',\n",
    "    1: 'joy',\n",
    "    2: 'love',\n",
    "    3: 'anger',\n",
    "    4: 'fear',\n",
    "    5: 'surprise'\n",
    "}\n",
    "label2id = {v: k for k, v in id2label.items()}"
   ],
   "metadata": {
    "collapsed": false
   }
  },
  {
   "cell_type": "markdown",
   "source": [
    "# Define metrics"
   ],
   "metadata": {
    "collapsed": false
   }
  },
  {
   "cell_type": "code",
   "execution_count": null,
   "outputs": [],
   "source": [
    "accuracy = evaluate.load('accuracy')\n",
    "def metrics(pred):\n",
    "    predictions, labels = pred\n",
    "    predictions = np.argmax(predictions, axis=1)\n",
    "    return accuracy.compute(predictions=predictions, references=labels)"
   ],
   "metadata": {
    "collapsed": false
   }
  },
  {
   "cell_type": "markdown",
   "source": [
    "# Define model"
   ],
   "metadata": {
    "collapsed": false
   }
  },
  {
   "cell_type": "code",
   "execution_count": null,
   "outputs": [],
   "source": [
    "class TransformerModel(nn.Module):\n",
    "\n",
    "    def __init__(self, d_model: int, nhead: int, d_hid: int, nlayers: int, out_features: int,\n",
    "                 d_between: int = 128, dropout: float = 0.5):\n",
    "        super().__init__()\n",
    "        self.model_type = 'Transformer text classificator'\n",
    "        encoder_layers = TransformerEncoderLayer(d_model, nhead, d_hid, dropout)\n",
    "        self.transformer_encoder = TransformerEncoder(encoder_layers, nlayers)\n",
    "        self.linear1 = nn.modules.Linear(d_model, d_between)\n",
    "        self.output = nn.modules.Linear(d_between, out_features)\n",
    "\n",
    "    def forward(self, src: Tensor, mask: Tensor) -> Tensor:\n",
    "        x = self.transformer_encoder(src, mask=mask)\n",
    "        x = F.relu(self.linear1(x))\n",
    "        output = self.output(x)\n",
    "        return output"
   ],
   "metadata": {
    "collapsed": false
   }
  },
  {
   "cell_type": "markdown",
   "source": [
    "# training arguments"
   ],
   "metadata": {
    "collapsed": false
   }
  },
  {
   "cell_type": "code",
   "execution_count": null,
   "outputs": [],
   "source": [
    "device = torch.device('cuda' if torch.cuda.is_available() else 'cpu')\n",
    "emsize = 300  # embedding dimension\n",
    "d_hid = 200  # dimension of the feedforward network model in nn.TransformerEncoder\n",
    "nlayers = 2  # number of nn.TransformerEncoderLayer in nn.TransformerEncoder\n",
    "out_features = 6 # num of categories\n",
    "nhead = 2  # number of heads in nn.MultiheadAttention\n",
    "dropout = 0.2  # dropout probability\n",
    "BATCH_SIZE = 256\n",
    "model = TransformerModel(emsize, nhead, d_hid, nlayers, out_features, dropout=dropout).to(device)\n",
    "model"
   ],
   "metadata": {
    "collapsed": false
   }
  },
  {
   "cell_type": "code",
   "execution_count": null,
   "outputs": [],
   "source": [
    "def generate_square_subsequent_mask(sz: int) -> Tensor:\n",
    "    \"\"\"Generates an upper-triangular matrix of -inf, with zeros on diag.\"\"\"\n",
    "    return torch.triu(torch.ones(sz, sz) * float('-inf'), diagonal=1)"
   ],
   "metadata": {
    "collapsed": false
   }
  },
  {
   "cell_type": "code",
   "execution_count": null,
   "outputs": [],
   "source": [
    "train_tokenized.shape"
   ],
   "metadata": {
    "collapsed": false
   }
  },
  {
   "cell_type": "code",
   "execution_count": null,
   "outputs": [],
   "source": [
    "criterion = nn.CrossEntropyLoss()\n",
    "lr = 5.0  # learning rate\n",
    "optimizer = torch.optim.SGD(model.parameters(), lr=lr)\n",
    "scheduler = torch.optim.lr_scheduler.StepLR(optimizer, 1.0, gamma=0.95)\n",
    "\n",
    "def convert_label(l):\n",
    "    t = torch.zeros(7, dtype=torch.float32)\n",
    "    t[l] = 1\n",
    "    return t\n",
    "\n",
    "def train(model: nn.Module, epoch: int) -> None:\n",
    "    model.train()  # turn on train mode\n",
    "    total_loss = 0.\n",
    "    log_interval = 10\n",
    "    start_time = time.time()\n",
    "    src_mask = generate_square_subsequent_mask(BATCH_SIZE).to(device)\n",
    "\n",
    "    num_batches = len(train_tokenized) // BATCH_SIZE\n",
    "    for batch, i in enumerate(range(0, len(train_tokenized), BATCH_SIZE)):\n",
    "        end = i + BATCH_SIZE\n",
    "        end = end if end < len(train_tokenized) else -1\n",
    "        input_ids = train_tokenized['input_ids'][i: end]\n",
    "        labels = train_tokenized['label'][i: end]\n",
    "\n",
    "        # padding\n",
    "        input_ids = pad_sequence([torch.tensor(l, dtype=torch.float) for l in input_ids], batch_first=True)\n",
    "        m = nn.ZeroPad2d((0, emsize - input_ids.shape[1]))\n",
    "        input_ids = m(input_ids)\n",
    "        labels = torch.tensor(labels).to(device)\n",
    "\n",
    "        seq_len = input_ids.shape[0]\n",
    "        if seq_len != BATCH_SIZE:  # only on last batch\n",
    "            src_mask = src_mask[:seq_len, :seq_len]\n",
    "\n",
    "        input_ids = input_ids.to(device)\n",
    "        output = model(input_ids, mask=src_mask)\n",
    "        loss = criterion(output, labels)\n",
    "\n",
    "        optimizer.zero_grad()\n",
    "        loss.backward()\n",
    "        torch.nn.utils.clip_grad_norm_(model.parameters(), 0.5)\n",
    "        optimizer.step()\n",
    "\n",
    "        total_loss += loss.item()\n",
    "        if batch % log_interval == 0 and batch > 0:\n",
    "            lr = scheduler.get_last_lr()[0]\n",
    "            ms_per_batch = (time.time() - start_time) * 1000 / log_interval\n",
    "            cur_loss = total_loss / log_interval\n",
    "            ppl = math.exp(cur_loss)\n",
    "            print(f'| epoch {epoch:3d} | {batch:5d}/{num_batches:5d} batches | '\n",
    "                  f'lr {lr:02.2f} | ms/batch {ms_per_batch:5.2f} | '\n",
    "                  f'loss {cur_loss:5.2f} | ppl {ppl:8.2f}')\n",
    "            total_loss = 0\n",
    "            start_time = time.time()\n",
    "\n",
    "def evaluate(model: nn.Module, eval_data: Tensor) -> float:\n",
    "    model.eval()  # turn on evaluation mode\n",
    "    total_loss = 0.\n",
    "    src_mask = generate_square_subsequent_mask(BATCH_SIZE).to(device)\n",
    "    with torch.no_grad():\n",
    "        for batch, i in enumerate(range(0, len(eval_data), BATCH_SIZE)):\n",
    "            end = i + BATCH_SIZE\n",
    "            end = end if end < len(eval_data) else -1\n",
    "            input_ids = eval_data['input_ids'][i: end]\n",
    "            labels = eval_data['label'][i: end]\n",
    "\n",
    "            # padding\n",
    "            input_ids = pad_sequence([torch.tensor(l, dtype=torch.float) for l in input_ids], batch_first=True)\n",
    "            m = nn.ZeroPad2d((0, emsize - input_ids.shape[1]))\n",
    "            input_ids = m(input_ids)\n",
    "            labels = torch.tensor(labels).to(device)\n",
    "\n",
    "            seq_len = input_ids.shape[0]\n",
    "            if seq_len != BATCH_SIZE:  # only on last batch\n",
    "                src_mask = src_mask[:seq_len, :seq_len]\n",
    "\n",
    "            input_ids = input_ids.to(device)\n",
    "            output = model(input_ids, mask=src_mask)\n",
    "            total_loss += criterion(output, labels).item()\n",
    "    return total_loss / (len(valid_tokenized) - 1)"
   ],
   "metadata": {
    "collapsed": false
   }
  },
  {
   "cell_type": "markdown",
   "source": [
    "# Train"
   ],
   "metadata": {
    "collapsed": false
   }
  },
  {
   "cell_type": "code",
   "execution_count": null,
   "outputs": [],
   "source": [
    "best_val_loss = float('inf')\n",
    "epochs = 3\n",
    "\n",
    "with TemporaryDirectory() as tempdir:\n",
    "    best_model_params_path = os.path.join(tempdir, \"best_model_params.pt\")\n",
    "\n",
    "    for epoch in range(1, epochs + 1):\n",
    "        epoch_start_time = time.time()\n",
    "        train(model, epoch)\n",
    "        val_loss = evaluate(model, valid_tokenized)\n",
    "        val_ppl = math.exp(val_loss)\n",
    "        elapsed = time.time() - epoch_start_time\n",
    "        print('-' * 89)\n",
    "        print(f'| end of epoch {epoch:3d} | time: {elapsed:5.2f}s | '\n",
    "              f'valid loss {val_loss:5.2f} | valid ppl {val_ppl:8.2f}')\n",
    "        print('-' * 89)\n",
    "\n",
    "        if val_loss < best_val_loss:\n",
    "            best_val_loss = val_loss\n",
    "            torch.save(model.state_dict(), best_model_params_path)\n",
    "\n",
    "        scheduler.step()\n",
    "    model.load_state_dict(torch.load(best_model_params_path)) # load best model states"
   ],
   "metadata": {
    "collapsed": false
   }
  },
  {
   "cell_type": "code",
   "execution_count": null,
   "outputs": [],
   "source": [],
   "metadata": {
    "collapsed": false
   }
  }
 ],
 "metadata": {
  "kernelspec": {
   "display_name": "Python 3",
   "language": "python",
   "name": "python3"
  },
  "language_info": {
   "codemirror_mode": {
    "name": "ipython",
    "version": 2
   },
   "file_extension": ".py",
   "mimetype": "text/x-python",
   "name": "python",
   "nbconvert_exporter": "python",
   "pygments_lexer": "ipython2",
   "version": "2.7.6"
  }
 },
 "nbformat": 4,
 "nbformat_minor": 0
}
